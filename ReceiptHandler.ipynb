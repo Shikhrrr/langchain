{
 "cells": [
  {
   "cell_type": "code",
   "execution_count": null,
   "id": "04547fde",
   "metadata": {},
   "outputs": [],
   "source": [
    "import requests\n",
    "import json"
   ]
  },
  {
   "cell_type": "markdown",
   "id": "9a732245",
   "metadata": {},
   "source": [
    "## Function - Sending and recieving the response"
   ]
  },
  {
   "cell_type": "code",
   "execution_count": 8,
   "id": "1bdaf06f",
   "metadata": {},
   "outputs": [],
   "source": [
    "def ocr_space_file(filename, api_key=\"K82415501488957\", lang=\"eng\"):\n",
    "    url_api = \"https://api.ocr.space/parse/image\"\n",
    "    payload = {\n",
    "        'apikey': api_key,\n",
    "        'language': lang,\n",
    "        'isOverlayRequired': False\n",
    "    }\n",
    "\n",
    "    with open(filename, 'rb') as f:\n",
    "        response = requests.post(\n",
    "            url_api,\n",
    "            files={'filename': f},\n",
    "            data=payload\n",
    "        )\n",
    "\n",
    "    result = json.loads(response.content.decode())\n",
    "\n",
    "    if result['OCRExitCode'] == 1:\n",
    "        parsed_text = result['ParsedResults'][0][\"ParsedText\"]\n",
    "        return parsed_text\n",
    "    else:\n",
    "        return f\"OCR failed with error: {result['ErrorMessage']}\"\n",
    "\n"
   ]
  },
  {
   "cell_type": "markdown",
   "id": "0f5d1c5f",
   "metadata": {},
   "source": [
    "## Example usage"
   ]
  },
  {
   "cell_type": "code",
   "execution_count": 9,
   "id": "1dcf15e1",
   "metadata": {},
   "outputs": [
    {
     "name": "stdout",
     "output_type": "stream",
     "text": [
      "Shoe Nome\n",
      "Conn pus\n",
      "coumbus\n",
      "20\n",
      "15\n",
      "1335\n",
      "1 533\n",
      "\n"
     ]
    }
   ],
   "source": [
    "if __name__ == '__main__':\n",
    "    image_file_path = \"bill.jpeg\"\n",
    "    \n",
    "    try:\n",
    "        extracted_text = ocr_space_file(image_file_path)\n",
    "        print(extracted_text)\n",
    "    except FileNotFoundError:\n",
    "        print(\"File could not be found\")\n",
    "    except Exception as e:\n",
    "        print(f\"Error: {e}\")\n"
   ]
  },
  {
   "cell_type": "code",
   "execution_count": null,
   "id": "2d2e17a0",
   "metadata": {},
   "outputs": [],
   "source": []
  },
  {
   "cell_type": "code",
   "execution_count": null,
   "id": "dd4d2862",
   "metadata": {},
   "outputs": [],
   "source": []
  }
 ],
 "metadata": {
  "kernelspec": {
   "display_name": "venv",
   "language": "python",
   "name": "python3"
  },
  "language_info": {
   "codemirror_mode": {
    "name": "ipython",
    "version": 3
   },
   "file_extension": ".py",
   "mimetype": "text/x-python",
   "name": "python",
   "nbconvert_exporter": "python",
   "pygments_lexer": "ipython3",
   "version": "3.9.6"
  }
 },
 "nbformat": 4,
 "nbformat_minor": 5
}
